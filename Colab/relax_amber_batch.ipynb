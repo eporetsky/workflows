{
  "nbformat": 4,
  "nbformat_minor": 0,
  "metadata": {
    "colab": {
      "provenance": [],
      "gpuType": "T4"
    },
    "kernelspec": {
      "name": "python3",
      "display_name": "Python 3"
    },
    "language_info": {
      "name": "python"
    },
    "accelerator": "GPU"
  },
  "cells": [
    {
      "cell_type": "markdown",
      "source": [
        "\n",
        "# Batch Relax your structure using OpenMM/Amber\n",
        "\n",
        "**Important Note**: This notebook is based completely on the `relax_amber` notebook that can be found at the [ColabFold](https://github.com/sokrypton/ColabFold) repository. The only addition offered here is the ability to batch-apply the PDB relaxation step to all PDB files in a given Google Drive folder. Visit my website for more information about my research, [link here](https://eporetsky.github.io/).\n",
        "\n",
        "Easy to use protein structure relaxation using [AlphaFold2](https://www.nature.com/articles/s41586-021-03819-2) and [OpenMM](https://github.com/openmm/openmm).\n",
        "\n",
        "This notebooks is **not** part of ColabFold, but if you use it, you should consider citing it. See [GitHub](https://github.com/sokrypton/ColabFold) for other notebooks.\n",
        "\n",
        "[Mirdita M, Schütze K, Moriwaki Y, Heo L, Ovchinnikov S, Steinegger M. ColabFold: Making protein folding accessible to all.\n",
        "*Nature Methods*, 2022](https://www.nature.com/articles/s41592-022-01488-1)\n"
      ],
      "metadata": {
        "id": "rvfNfOLaE4bW"
      }
    },
    {
      "cell_type": "code",
      "source": [
        "%%time\n",
        "#@title Setup AlphaFold2 and OpenMM\n",
        "import sys, os\n",
        "from sys import version_info\n",
        "PYTHON_VERSION = f\"{version_info.major}.{version_info.minor}\"\n",
        "\n",
        "if not os.path.isfile(\"ALPHAFOLD_READY\"):\n",
        "  print(\"installing AlphaFold...\")\n",
        "  os.system(\"pip install alphafold-colabfold\")\n",
        "  os.system(\"ln -s /usr/local/lib/python3.*/dist-packages/alphafold alphafold\")\n",
        "  os.system(\"touch ALPHAFOLD_READY\")\n",
        "\n",
        "if not os.path.isfile(\"CONDA_READY\"):\n",
        "  print(\"installing conda...\")\n",
        "  os.system(\"wget -qnc https://github.com/conda-forge/miniforge/releases/latest/download/Mambaforge-Linux-x86_64.sh\")\n",
        "  os.system(\"bash Mambaforge-Linux-x86_64.sh -bfp /usr/local\")\n",
        "  os.system(\"mamba config --set auto_update_conda false\")\n",
        "  os.system(\"touch CONDA_READY\")\n",
        "\n",
        "if not os.path.isfile(\"AMBER_READY\"):\n",
        "  print(\"installing amber...\")\n",
        "  os.system(f\"mamba install -y -q -c conda-forge openmm=7.7.0 python='{PYTHON_VERSION}' pdbfixer 2>&1 1>/dev/null\")\n",
        "  os.system(\"touch AMBER_READY\")\n",
        "\n",
        "PATH = f\"/usr/local/lib/python{PYTHON_VERSION}/site-packages/\"\n",
        "if PATH not in sys.path:\n",
        "  sys.path.insert(0, PATH)\n",
        "\n",
        "import warnings\n",
        "warnings.simplefilter(action='ignore', category=FutureWarning)\n",
        "\n",
        "from alphafold.relax import relax\n",
        "from alphafold.relax import utils\n",
        "from alphafold.common import protein, residue_constants\n",
        "\n",
        "MODRES = {'MSE':'MET','MLY':'LYS','FME':'MET','HYP':'PRO',\n",
        "          'TPO':'THR','CSO':'CYS','SEP':'SER','M3L':'LYS',\n",
        "          'HSK':'HIS','SAC':'SER','PCA':'GLU','DAL':'ALA',\n",
        "          'CME':'CYS','CSD':'CYS','OCS':'CYS','DPR':'PRO',\n",
        "          'B3K':'LYS','ALY':'LYS','YCM':'CYS','MLZ':'LYS',\n",
        "          '4BF':'TYR','KCX':'LYS','B3E':'GLU','B3D':'ASP',\n",
        "          'HZP':'PRO','CSX':'CYS','BAL':'ALA','HIC':'HIS',\n",
        "          'DBZ':'ALA','DCY':'CYS','DVA':'VAL','NLE':'LEU',\n",
        "          'SMC':'CYS','AGM':'ARG','B3A':'ALA','DAS':'ASP',\n",
        "          'DLY':'LYS','DSN':'SER','DTH':'THR','GL3':'GLY',\n",
        "          'HY3':'PRO','LLP':'LYS','MGN':'GLN','MHS':'HIS',\n",
        "          'TRQ':'TRP','B3Y':'TYR','PHI':'PHE','PTR':'TYR',\n",
        "          'TYS':'TYR','IAS':'ASP','GPL':'LYS','KYN':'TRP',\n",
        "          'CSD':'CYS','SEC':'CYS'}\n",
        "\n",
        "def pdb_to_string(pdb_file, chains=None, models=[1]):\n",
        "  '''read pdb file and return as string'''\n",
        "\n",
        "  if chains is not None:\n",
        "    if \",\" in chains: chains = chains.split(\",\")\n",
        "    if not isinstance(chains,list): chains = [chains]\n",
        "  if models is not None:\n",
        "    if not isinstance(models,list): models = [models]\n",
        "\n",
        "  modres = {**MODRES}\n",
        "  lines = []\n",
        "  seen = []\n",
        "  model = 1\n",
        "  for line in open(pdb_file,\"rb\"):\n",
        "    line = line.decode(\"utf-8\",\"ignore\").rstrip()\n",
        "    if line[:5] == \"MODEL\":\n",
        "      model = int(line[5:])\n",
        "    if models is None or model in models:\n",
        "      if line[:6] == \"MODRES\":\n",
        "        k = line[12:15]\n",
        "        v = line[24:27]\n",
        "        if k not in modres and v in residue_constants.restype_3to1:\n",
        "          modres[k] = v\n",
        "      if line[:6] == \"HETATM\":\n",
        "        k = line[17:20]\n",
        "        if k in modres:\n",
        "          line = \"ATOM  \"+line[6:17]+modres[k]+line[20:]\n",
        "      if line[:4] == \"ATOM\":\n",
        "        chain = line[21:22]\n",
        "        if chains is None or chain in chains:\n",
        "          atom = line[12:12+4].strip()\n",
        "          resi = line[17:17+3]\n",
        "          resn = line[22:22+5].strip()\n",
        "          if resn[-1].isalpha(): # alternative atom\n",
        "            resn = resn[:-1]\n",
        "            line = line[:26]+\" \"+line[27:]\n",
        "          key = f\"{model}_{chain}_{resn}_{resi}_{atom}\"\n",
        "          if key not in seen: # skip alternative placements\n",
        "            lines.append(line)\n",
        "            seen.append(key)\n",
        "      if line[:5] == \"MODEL\" or line[:3] == \"TER\" or line[:6] == \"ENDMDL\":\n",
        "        lines.append(line)\n",
        "  return \"\\n\".join(lines)\n",
        "\n",
        "def relax_me(pdb_in, pdb_out, max_iterations, tolerance, stiffness, use_gpu):\n",
        "  pdb_str = pdb_to_string(pdb_in)\n",
        "  protein_obj = protein.from_pdb_string(pdb_str)\n",
        "  amber_relaxer = relax.AmberRelaxation(\n",
        "    max_iterations=max_iterations,\n",
        "    tolerance=tolerance,\n",
        "    stiffness=stiffness,\n",
        "    exclude_residues=[],\n",
        "    max_outer_iterations=3,\n",
        "    use_gpu=use_gpu\n",
        "  )\n",
        "  relaxed_pdb_lines, _, _ = amber_relaxer.process(prot=protein_obj)\n",
        "  with open(pdb_out, 'w') as f:\n",
        "      f.write(relaxed_pdb_lines)"
      ],
      "metadata": {
        "id": "1KKjet38pMys",
        "colab": {
          "base_uri": "https://localhost:8080/"
        },
        "cellView": "form",
        "outputId": "dec4deb6-fb33-4992-e56e-3ae7206d1efc"
      },
      "execution_count": null,
      "outputs": [
        {
          "output_type": "stream",
          "name": "stdout",
          "text": [
            "installing AlphaFold...\n",
            "installing conda...\n",
            "installing amber...\n",
            "CPU times: user 1.09 s, sys: 129 ms, total: 1.22 s\n",
            "Wall time: 1min 13s\n"
          ]
        }
      ]
    },
    {
      "cell_type": "code",
      "source": [
        "#@title ### **Import Google Drive**\n",
        "#@markdown Click in the \"Run\" buttom to make your Google Drive accessible.\n",
        "from google.colab import drive\n",
        "\n",
        "drive.flush_and_unmount()\n",
        "drive.mount('/content/drive', force_remount=True)"
      ],
      "metadata": {
        "colab": {
          "base_uri": "https://localhost:8080/"
        },
        "cellView": "form",
        "id": "3fHUDFS_KuLi",
        "outputId": "83853149-0714-4c95-b68b-d20bf76171f5"
      },
      "execution_count": null,
      "outputs": [
        {
          "output_type": "stream",
          "name": "stdout",
          "text": [
            "Drive not mounted, so nothing to flush and unmount.\n",
            "Mounted at /content/drive\n"
          ]
        }
      ]
    },
    {
      "cell_type": "code",
      "source": [
        "#@title #Load folder with PDBs\n",
        "#@markdown - Upload all \"pdb\" files to the gdrive_input/ folder specified below\n",
        "#@markdown - Relaxed PDBs will be saved to gdrive_input/relaxed/\n",
        "#@markdown - Existing relaxed PDB files will be skipped\n",
        "\n",
        "import os\n",
        "import glob\n",
        "gdrive_input = '/content/drive/MyDrive/relax_amber_batch/' #@param {type:\"string\"}\n",
        "gdrive_output = os.path.join(gdrive_input, \"relaxed\")\n",
        "os.makedirs(gdrive_output,exist_ok=True)\n",
        "\n",
        "complete_list = glob.glob(os.path.join(gdrive_output,\"*.pdb\"))\n",
        "complete_list = [os.path.basename(complete) for complete in complete_list]\n",
        "print(f\"Found {len(complete_list)} relaxed structures\")"
      ],
      "metadata": {
        "colab": {
          "base_uri": "https://localhost:8080/"
        },
        "cellView": "form",
        "id": "jRi7Qo0xKQ-w",
        "outputId": "bb2055c2-0733-41d4-e630-1a6a7971cd75"
      },
      "execution_count": null,
      "outputs": [
        {
          "output_type": "stream",
          "name": "stdout",
          "text": [
            "Found 71 relaxed structures\n"
          ]
        }
      ]
    },
    {
      "cell_type": "code",
      "source": [
        "#@title #Relax\n",
        "#@markdown - Click the little ▶ play icon to the left to get an upload prompt.\n",
        "#@markdown - After relax is done, `relaxed.pdb` will automatically download.\n",
        "#@markdown - If download was blocked, click the little folder 📁 icon on the left, right-click `relaxed.pdb` and select Download!\n",
        "#@markdown ----\n",
        "#@markdown ## Parameters\n",
        "max_iterations = 2000 #@param {type:\"slider\", min:0, max:5000, step:250}\n",
        "#@markdown - Low values might never converge and crash and high values might also run for a long time. `0` = infinity is the AF2 default, however it might run for a long time.\n",
        "tolerance = 2.39 # @param {type:\"number\"}\n",
        "#@markdown - kcal/mol, the energy tolerance of L-BFGS.\n",
        "stiffness = 10.0 # @param {type:\"number\"}\n",
        "#@markdown - kcal/mol A^2, spring constant of heavy atom restraining potential.\n",
        "#@markdown - **Note:** Descriptions and default values are taken AF2.\n",
        "use_gpu = True # @param {type:\"boolean\"}\n",
        "#@markdown - set \"Runtime->Change runtime type\" to a GPU in Google Colab if you activate this.\n",
        "\n",
        "count = 1\n",
        "file_list = glob.glob(os.path.join(gdrive_input,\"*.pdb\"))\n",
        "for fl in file_list:\n",
        "  input_file = os.path.basename(fl)\n",
        "  output_file = os.path.basename(input_file.replace(\"unrelaxed_\",\"relaxed_\"))\n",
        "\n",
        "  # Skip the relaxation if a relaxed PDB file exists\n",
        "  if output_file in complete_list:\n",
        "    print(f\"Skipping {count} of {len(file_list)}: {input_file}\")\n",
        "    count += 1\n",
        "\n",
        "  # Start the relaxation step otherwise\n",
        "  else:\n",
        "    print(f\"Relaxing {count} of {len(file_list)}: {input_file}\")\n",
        "    count += 1\n",
        "\n",
        "    relax_me(\n",
        "        pdb_in=os.path.join(gdrive_input, input_file),\n",
        "        pdb_out=os.path.join(gdrive_output, output_file),\n",
        "        max_iterations=max_iterations,\n",
        "        tolerance=tolerance,\n",
        "        stiffness=stiffness,\n",
        "        use_gpu=use_gpu\n",
        "    )"
      ],
      "metadata": {
        "cellView": "form",
        "id": "UkNltJ5hKVrB"
      },
      "execution_count": null,
      "outputs": []
    }
  ]
}
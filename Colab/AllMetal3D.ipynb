{
  "nbformat": 4,
  "nbformat_minor": 0,
  "metadata": {
    "colab": {
      "provenance": [],
      "gpuType": "T4"
    },
    "kernelspec": {
      "name": "python3",
      "display_name": "Python 3"
    },
    "language_info": {
      "name": "python"
    },
    "accelerator": "GPU"
  },
  "cells": [
    {
      "cell_type": "code",
      "execution_count": 5,
      "metadata": {
        "id": "j-wgjbpFPhBE"
      },
      "outputs": [],
      "source": [
        "! uv pip install allmetal3d > /dev/null 2>&1"
      ]
    },
    {
      "cell_type": "markdown",
      "source": [
        "```\n",
        "usage: allmetal3d [-h] -i INPUT [-a {all,water3d,allmetal3d}] [-m {fast,all,site}] [-c CENTRAL_RESIDUE]\n",
        "                  [-r RADIUS] [-t THRESHOLD] [-p PTHRESHOLD] [-b BATCH_SIZE] [-o OUTPUT_DIR]\n",
        "\n",
        "AllMetal3D Command Line Interface\n",
        "\n",
        "options:\n",
        "  -h, --help            show this help message and exit\n",
        "  -i INPUT, --input INPUT\n",
        "                        Input PDB file\n",
        "  -a {all,water3d,allmetal3d} --models {all,water3d,allmetal3d}\n",
        "                        Models\n",
        "  -m {fast,all,site}, --mode {fast,all,site}\n",
        "                        Prediction mode\n",
        "  -c CENTRAL_RESIDUE, --central_residue CENTRAL_RESIDUE\n",
        "                        Central residue\n",
        "  -r RADIUS, --radius RADIUS\n",
        "                        Distance threshold\n",
        "  -t THRESHOLD, --threshold THRESHOLD\n",
        "                        Threshold\n",
        "  -p PTHRESHOLD, --pthreshold PTHRESHOLD\n",
        "                        Probability Threshold\n",
        "  -b BATCH_SIZE, --batch_size BATCH_SIZE\n",
        "                        Batch Size\n",
        "  -o OUTPUT_DIR, --output_dir OUTPUT_DIR\n",
        "                        Output directory\n",
        "```"
      ],
      "metadata": {
        "id": "ou_dQkq_Qk3U"
      }
    },
    {
      "cell_type": "markdown",
      "source": [
        "# Upload PDB files to your notebook directory on the left and un AllMetal3D"
      ],
      "metadata": {
        "id": "2pSR3maA8oqe"
      }
    },
    {
      "cell_type": "code",
      "source": [
        "!allmetal3d -i protein_id.pdb --models allmetal3d -m all"
      ],
      "metadata": {
        "id": "JuR4naJP4oFk"
      },
      "execution_count": null,
      "outputs": []
    }
  ]
}
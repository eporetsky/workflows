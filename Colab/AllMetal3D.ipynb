{
  "nbformat": 4,
  "nbformat_minor": 0,
  "metadata": {
    "colab": {
      "provenance": [],
      "gpuType": "T4"
    },
    "kernelspec": {
      "name": "python3",
      "display_name": "Python 3"
    },
    "language_info": {
      "name": "python"
    },
    "accelerator": "GPU"
  },
  "cells": [
    {
      "cell_type": "markdown",
      "source": [
        "# Install CUDA compatible allmetal3d"
      ],
      "metadata": {
        "id": "OEP6fSjn5FSK"
      }
    },
    {
      "cell_type": "code",
      "execution_count": 1,
      "metadata": {
        "id": "j-wgjbpFPhBE"
      },
      "outputs": [],
      "source": [
        "! uv pip install allmetal3d > /dev/null 2>&1"
      ]
    },
    {
      "cell_type": "markdown",
      "source": [
        "```\n",
        "usage: allmetal3d [-h] -i INPUT [-a {all,water3d,allmetal3d}] [-m {fast,all,site}] [-c CENTRAL_RESIDUE]\n",
        "                  [-r RADIUS] [-t THRESHOLD] [-p PTHRESHOLD] [-b BATCH_SIZE] [-o OUTPUT_DIR]\n",
        "\n",
        "AllMetal3D Command Line Interface\n",
        "\n",
        "options:\n",
        "  -h, --help            show this help message and exit\n",
        "  -i INPUT, --input INPUT\n",
        "                        Input PDB file\n",
        "  -a {all,water3d,allmetal3d} --models {all,water3d,allmetal3d}\n",
        "                        Models\n",
        "  -m {fast,all,site}, --mode {fast,all,site}\n",
        "                        Prediction mode\n",
        "  -c CENTRAL_RESIDUE, --central_residue CENTRAL_RESIDUE\n",
        "                        Central residue\n",
        "  -r RADIUS, --radius RADIUS\n",
        "                        Distance threshold\n",
        "  -t THRESHOLD, --threshold THRESHOLD\n",
        "                        Threshold\n",
        "  -p PTHRESHOLD, --pthreshold PTHRESHOLD\n",
        "                        Probability Threshold\n",
        "  -b BATCH_SIZE, --batch_size BATCH_SIZE\n",
        "                        Batch Size\n",
        "  -o OUTPUT_DIR, --output_dir OUTPUT_DIR\n",
        "                        Output directory\n",
        "```"
      ],
      "metadata": {
        "id": "ou_dQkq_Qk3U"
      }
    },
    {
      "cell_type": "markdown",
      "source": [
        "# Method 1 - Upload PDB files and run AllMetal3D"
      ],
      "metadata": {
        "id": "2pSR3maA8oqe"
      }
    },
    {
      "cell_type": "code",
      "source": [
        "!allmetal3d -i protein_id.pdb --models allmetal3d -m all"
      ],
      "metadata": {
        "id": "JuR4naJP4oFk"
      },
      "execution_count": null,
      "outputs": []
    },
    {
      "cell_type": "markdown",
      "source": [
        "# Method 2 - Batch process on all sites\n",
        "\n",
        "Upload all pdb files to `structures/`\n",
        "\n",
        "Download zipped results file when complete"
      ],
      "metadata": {
        "id": "N0x_8KfW43rk"
      }
    },
    {
      "cell_type": "code",
      "source": [
        "import os\n",
        "import glob\n",
        "\n",
        "# Make allmetal3d results directory\n",
        "os.system(\"mkdir allmetal3d\")\n",
        "\n",
        "for file in glob.glob(\"structures/*.pdb\"):\n",
        "    os.system(f\"allmetal3d -i {file} --models allmetal3d -m all -o allmetal3d\")\n",
        "\n",
        "os.system(\"zip -r /content/allmetal3d.zip /content/allmetal3d\")\n",
        "from google.colab import files\n",
        "files.download(\"/content/allmetal3d.zip\")\n"
      ],
      "metadata": {
        "id": "5SSHQtevxnW3"
      },
      "execution_count": 2,
      "outputs": []
    },
    {
      "cell_type": "markdown",
      "source": [
        "# Method 3 - Batch process using a site list\n",
        "\n",
        "Upload all pdb files to `structures/`\n",
        "\n",
        "Download zipped results file when complete"
      ],
      "metadata": {
        "id": "32z11wRu4sf1"
      }
    },
    {
      "cell_type": "code",
      "source": [
        "import glob\n",
        "import os\n",
        "\n",
        "# Make allmetal3d results directory\n",
        "os.system(\"mkdir allmetal3d\")\n",
        "\n",
        "# Open cluster.sites.tsv (gene_id, ix), iterate over sites with allmetal3d on it\n",
        "pdb_list = glob.glob(\"structures/*.pdb\")\n",
        "\n",
        "with open(\"cluster.sites.tsv\", \"r\") as f:\n",
        "    for line in f:\n",
        "        if line.startswith(\"gene_id\"):\n",
        "            continue\n",
        "        gene_id, ix = line.strip().split(\"\\t\")\n",
        "        ix = int(ix)+1\n",
        "        for pdb in pdb_list:\n",
        "            if gene_id in pdb:\n",
        "                os.system(f\"allmetal3d -i {pdb} --models allmetal3d -m site -c {ix} -r 5 -o allmetal3d\")\n",
        "                break\n",
        "\n",
        "os.system(\"zip -r /content/allmetal3d.zip /content/allmetal3d\")\n",
        "from google.colab import files\n",
        "files.download(\"/content/allmetal3d.zip\")\n",
        "\n"
      ],
      "metadata": {
        "id": "LwI4nhZPz2l4"
      },
      "execution_count": null,
      "outputs": []
    }
  ]
}